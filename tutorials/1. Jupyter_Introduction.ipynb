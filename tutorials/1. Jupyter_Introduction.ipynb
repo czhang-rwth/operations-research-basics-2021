{
 "cells": [
  {
   "cell_type": "markdown",
   "metadata": {},
   "source": [
    "# Jupyter Notebooks & Gurobi"
   ]
  },
  {
   "cell_type": "markdown",
   "metadata": {},
   "source": [
    "You can run a cell either by clicking `Run` on the toolbar or by pressing `CTRL+RETURN`. Pressing `SHIFT+RETURN` will run the cell and move the pointer to the next one. For a complete list of keyboard shortcuts press `H`."
   ]
  },
  {
   "cell_type": "markdown",
   "metadata": {},
   "source": [
    "## Introduction"
   ]
  },
  {
   "cell_type": "markdown",
   "metadata": {},
   "source": [
    "This series of Jupyter notebooks is meant to show you the process of solving optimization problems with Python and Gurobi, one step at a time. The steps are kept short and simple. This way you can easily understand the effect of the used commands.  \n",
    "\n",
    "Please check out the references provided in the cells below if you need more information on how to use a particular command. You are also encouranged to play around with the values/commands to better understand the principles of linear programming.  \n",
    "\n",
    "The graphs in this notebook are there to show you how the feasible region changes based on the added constraints. You are by no means required to build graphs when you construct your models, but keep in mind that visualization can often be a very powerful tool."
   ]
  },
  {
   "cell_type": "markdown",
   "metadata": {},
   "source": [
    "Run the cell below to import all the necessary libraries. In this case we import `Gurobi` and `matplotlib`. The second library will be used for plotting a couple of graphs later."
   ]
  },
  {
   "cell_type": "code",
   "execution_count": null,
   "metadata": {},
   "outputs": [],
   "source": [
    "from gurobipy import *\n",
    "import matplotlib.pyplot as plt\n",
    "\n",
    "# Enable high resolution plots\n",
    "import matplotlib_inline.backend_inline\n",
    "matplotlib_inline.backend_inline.set_matplotlib_formats('retina')\n",
    "\n",
    "# In case you run into a 'ModuleNotFoundError' please comment out the two lines above (add a '#' at the beginning)\n",
    "# and uncomment the following two lines (remove the '#'s):\n",
    "#\n",
    "# from IPython.display import set_matplotlib_formats\n",
    "# set_matplotlib_formats('retina')"
   ]
  },
  {
   "cell_type": "markdown",
   "metadata": {},
   "source": [
    "## And so it begins..."
   ]
  },
  {
   "cell_type": "markdown",
   "metadata": {},
   "source": [
    "In this notebook we will walk you through the solution process of the following LP:\n",
    "$$\\begin{array}{rll}\n",
    " \\text{max} & -x+y \\\\\n",
    " \\text{s.t.} & x + y \\ge 6 \\\\\n",
    " & x \\le 5 \\\\\n",
    " & -x + 2y \\le 8 \\\\\n",
    " & x,y \\ge 0\n",
    "\\end{array}\n",
    "$$"
   ]
  },
  {
   "cell_type": "markdown",
   "metadata": {},
   "source": [
    "First, we create a model. We will call it `m`.<br/>\n",
    "Reference: [Model()](https://www.gurobi.com/documentation/9.0/refman/py_model2.html)"
   ]
  },
  {
   "cell_type": "code",
   "execution_count": null,
   "metadata": {},
   "outputs": [],
   "source": [
    "m = Model('introduction')"
   ]
  },
  {
   "cell_type": "markdown",
   "metadata": {},
   "source": [
    "Now, we add our continuous variables `x` and `y`. Since our model has a constraint $x \\le 5$, we can set the upper bound (`ub`) of `x` to 5.<br/>\n",
    "Reference: [addVar()](https://www.gurobi.com/documentation/9.0/refman/py_model_addvar.html)"
   ]
  },
  {
   "cell_type": "code",
   "execution_count": null,
   "metadata": {},
   "outputs": [],
   "source": [
    "x = m.addVar(ub=5, name='x')\n",
    "y = m.addVar(name='y')"
   ]
  },
  {
   "cell_type": "markdown",
   "metadata": {},
   "source": [
    "We then set the objective function. We set the `sense` of our objective function to `GRB.MAXIMIZE` since we have a maximization problem.<br/>\n",
    "Reference: [setObjective()](https://www.gurobi.com/documentation/9.0/refman/py_model_setobjective.html)"
   ]
  },
  {
   "cell_type": "code",
   "execution_count": null,
   "metadata": {},
   "outputs": [],
   "source": [
    "m.setObjective(-x + y, GRB.MAXIMIZE)"
   ]
  },
  {
   "cell_type": "markdown",
   "metadata": {},
   "source": [
    "After adding our variables, we add the constrints. Note that we do not add the constraint $x \\leq 5$ because it is already covered by the upper bound on the variable $x$.  \n",
    "Reference: [addConstr()](https://www.gurobi.com/documentation/9.0/refman/py_model_addconstr.html)"
   ]
  },
  {
   "cell_type": "code",
   "execution_count": null,
   "metadata": {},
   "outputs": [],
   "source": [
    "m.addConstr(x + y >= 6)\n",
    "m.addConstr(-x + 2*y <= 8)"
   ]
  },
  {
   "cell_type": "markdown",
   "metadata": {},
   "source": [
    "Update the model to process the pending modifications (added variables and constraints) and run the optimization.<br/>\n",
    "Reference: [update()](https://www.gurobi.com/documentation/9.0/refman/py_model_update.html), [optimize()](https://www.gurobi.com/documentation/9.0/refman/py_model_optimize.html)"
   ]
  },
  {
   "cell_type": "code",
   "execution_count": null,
   "metadata": {},
   "outputs": [],
   "source": [
    "m.update()\n",
    "m.optimize()"
   ]
  },
  {
   "cell_type": "markdown",
   "metadata": {},
   "source": [
    "We can print out the optimal objective value and the variable values for optimal solution.<br/>\n",
    "Reference: [ObjVal](https://www.gurobi.com/documentation/9.0/refman/objval.html), [Variable Attributes](https://www.gurobi.com/documentation/9.0/refman/variable_attributes.html)"
   ]
  },
  {
   "cell_type": "code",
   "execution_count": null,
   "metadata": {
    "scrolled": true
   },
   "outputs": [],
   "source": [
    "print('The optimal objective value is', round(m.ObjVal, 2))\n",
    "for v in m.getVars():\n",
    "    print(f'The optimum value for {v.varName} is {round(v.x, 2)}')"
   ]
  },
  {
   "cell_type": "markdown",
   "metadata": {},
   "source": [
    "Since we only have two variables, we can easily visualize the solution."
   ]
  },
  {
   "cell_type": "code",
   "execution_count": null,
   "metadata": {},
   "outputs": [],
   "source": [
    "plt.figure(figsize=(6, 6))\n",
    "plt.plot([5, 1.3333], [1, 4.6666], label='$x + y \\geq 6$')\n",
    "plt.plot([5, 5], [1, 6.5], label='$x \\leq 5$')\n",
    "plt.plot([1.3333, 5], [4.6666, 6.5], label='$-x+2y \\leq 8$')\n",
    "plt.plot([0, 3.6666], [3.3333, 7], label='Objective', linestyle='--', color='k')\n",
    "plt.plot(1.3333, 4.6666, marker='o', markersize=8, label='Optimum', color='r')\n",
    "plt.fill([5, 1.3333, 5, 5], [1, 4.6666, 6.5, 1], color='#f0f8ff')\n",
    "plt.xlabel('$x$')\n",
    "plt.ylabel('$y$')\n",
    "plt.xlim(0, 6.7)\n",
    "plt.ylim(0, 6.7)\n",
    "plt.legend(loc=3)\n",
    "plt.show()"
   ]
  },
  {
   "cell_type": "markdown",
   "metadata": {},
   "source": [
    "Now, say, we were to introduce a new constraint: $2x + y \\geq 9$"
   ]
  },
  {
   "cell_type": "code",
   "execution_count": null,
   "metadata": {
    "scrolled": false
   },
   "outputs": [],
   "source": [
    "plt.figure(figsize=(6, 6))\n",
    "plt.plot([5, 1.3333], [1, 4.666], label='$x + y \\geq 6$')\n",
    "plt.plot([5, 5], [1, 6.5], label='$x \\leq 5$')\n",
    "plt.plot([1.3333, 5], [4.6666, 6.5], label='$-x+2y \\leq 8$')\n",
    "plt.plot([4.5, 0], [0, 9], label='$2x+y \\geq 9$')\n",
    "plt.plot([0, 3.6666], [3.3333, 7], label='Objective', linestyle='--', color='k')\n",
    "plt.plot(x.x, y.x, marker='o', markersize=8, label='Optimum', color='r')\n",
    "plt.fill([5, 1.3333, 5, 5], [1, 4.6666, 6.5, 1], color='#f0f8ff')\n",
    "plt.xlabel('$x$')\n",
    "plt.ylabel('$y$')\n",
    "plt.xlim(0, 6.7)\n",
    "plt.ylim(0, 6.7)\n",
    "plt.legend(loc=3)\n",
    "plt.show()"
   ]
  },
  {
   "cell_type": "markdown",
   "metadata": {},
   "source": [
    "Note that the new constraint cuts off the current optimum.<br/>\n",
    "We will now add the constraint to our model."
   ]
  },
  {
   "cell_type": "code",
   "execution_count": null,
   "metadata": {},
   "outputs": [],
   "source": [
    "m.addConstr(2 * x + y >= 9)"
   ]
  },
  {
   "cell_type": "markdown",
   "metadata": {},
   "source": [
    "Do not forget to update the model before reoptimizing."
   ]
  },
  {
   "cell_type": "code",
   "execution_count": null,
   "metadata": {},
   "outputs": [],
   "source": [
    "m.update()\n",
    "m.optimize()"
   ]
  },
  {
   "cell_type": "markdown",
   "metadata": {},
   "source": [
    "The new optimal objective value and the values of the variables are displayed below."
   ]
  },
  {
   "cell_type": "code",
   "execution_count": null,
   "metadata": {},
   "outputs": [],
   "source": [
    "print('The optimal objective value is', round(m.ObjVal, 2))\n",
    "for v in m.getVars():\n",
    "    print(f'The optimum value for {v.varName} is {round(v.x, 2)}')"
   ]
  },
  {
   "cell_type": "markdown",
   "metadata": {},
   "source": [
    "See the updated polyhedron below."
   ]
  },
  {
   "cell_type": "code",
   "execution_count": null,
   "metadata": {},
   "outputs": [],
   "source": [
    "plt.figure(figsize=(6, 6))\n",
    "plt.plot([5, 3], [1, 3], label='$x + y \\geq 6$')\n",
    "plt.plot([5, 5], [1, 6.5], label='$x \\leq 5$')\n",
    "plt.plot([2, 5], [5, 6.5], label='$-x+2y \\leq 8$')\n",
    "plt.plot([3, 2], [3, 5], label='$2x+y \\geq 9$')\n",
    "plt.plot([0, 4], [3, 7], label='Objective', linestyle='--', color='k')\n",
    "plt.plot(x.x, y.x, marker='o', markersize=8, label='Optimum', color='r')\n",
    "plt.fill([5, 3, 2, 5, 5], [1, 3, 5, 6.5, 1], color='#f0f8ff')\n",
    "plt.xlabel('$x$')\n",
    "plt.ylabel('$y$')\n",
    "plt.xlim(0, 6.7)\n",
    "plt.ylim(0, 6.7)\n",
    "plt.legend(loc=3)\n",
    "plt.show()"
   ]
  },
  {
   "cell_type": "markdown",
   "metadata": {},
   "source": [
    "Congratulations! You have solved your first LP!"
   ]
  },
  {
   "cell_type": "markdown",
   "metadata": {},
   "source": [
    "## Conclusion"
   ]
  },
  {
   "cell_type": "markdown",
   "metadata": {},
   "source": [
    "In this notebook you have build a very basic model in Python using the Gurobi library and used it to solve the given LP.  \n",
    "You have also seen how an added constraint changes the feasible region and influences the optimal solution (only if the new constraint cuts off the previous optimum, of course).  \n",
    "In the next notebook we are going to walk you through the solution process of the _knapsack problem_, a classical optimization problem.\n",
    "\n",
    "Thank you for your attention and see you there!"
   ]
  },
  {
   "cell_type": "code",
   "execution_count": null,
   "metadata": {},
   "outputs": [],
   "source": []
  }
 ],
 "metadata": {
  "kernelspec": {
   "display_name": "Python 3",
   "language": "python",
   "name": "python3"
  },
  "language_info": {
   "codemirror_mode": {
    "name": "ipython",
    "version": 3
   },
   "file_extension": ".py",
   "mimetype": "text/x-python",
   "name": "python",
   "nbconvert_exporter": "python",
   "pygments_lexer": "ipython3",
   "version": "3.8.8"
  }
 },
 "nbformat": 4,
 "nbformat_minor": 4
}
