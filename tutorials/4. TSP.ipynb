{
 "cells": [
  {
   "cell_type": "markdown",
   "metadata": {},
   "source": [
    "# The Travelling Salesman Problem"
   ]
  },
  {
   "cell_type": "markdown",
   "metadata": {},
   "source": [
    "You can run a cell either by clicking `Run` on the toolbar or by pressing `CTRL+RETURN`. Pressing `SHIFT+RETURN` will run the cell and move the pointer to the next one. For a complete list of keyboard shortcuts press `H`."
   ]
  },
  {
   "cell_type": "markdown",
   "metadata": {},
   "source": [
    "## Introduction"
   ]
  },
  {
   "cell_type": "markdown",
   "metadata": {},
   "source": [
    "In this Jupyter notebook we are going to model the travelling salesman problem together. We will use visualizations extencively to make sure that you can easily follow the process. We encourage you to also use visualizations when you are working alone.  \n",
    "Now, let us define the problem."
   ]
  },
  {
   "cell_type": "markdown",
   "metadata": {},
   "source": [
    "Given an undirected graph $G=(V,E)$, as well as edge weights (costs) $c: E \\mapsto \\mathbb{R}_+$, we need to find the *shortest* (or the cheapest) tour $T \\subseteq E$.  \n",
    "A tour is a Hamiltonian cycle, i.e., a cycle that contains each node in $V$ exactly once."
   ]
  },
  {
   "cell_type": "markdown",
   "metadata": {},
   "source": [
    "Run the cell below to import all the necessary libraries. In this case we import `Gurobi` and `matplotlib`. The second library will be used for plotting a couple of graphs later."
   ]
  },
  {
   "cell_type": "code",
   "execution_count": null,
   "metadata": {},
   "outputs": [],
   "source": [
    "from gurobipy import *\n",
    "import matplotlib.pyplot as plt\n",
    "\n",
    "# Enable high resolution plots\n",
    "from IPython.display import set_matplotlib_formats\n",
    "set_matplotlib_formats('retina')"
   ]
  },
  {
   "cell_type": "markdown",
   "metadata": {},
   "source": [
    "## Data"
   ]
  },
  {
   "cell_type": "markdown",
   "metadata": {},
   "source": [
    "Below you will find the data supplied by your professor/manager/friend/etc.  \n",
    "The following data is available to you:  \n",
    "`V`: a dictionary containing verticies $v\\in V$ as keys and their coordinates $(x, y)$ as values  \n",
    "`E`: a dictionary containing edges $ij\\in E$ as keys and their weights $c_{ij}\\in \\mathbb{R}_+$ as values  \n",
    "`n`: the number of vertices\n",
    "\n",
    "For the sake of simlicity, $G$ is a complete graph, i.e., $ij \\in E$ $\\forall i, j \\in V$. The weight of an edge $ij\\in E$ equals to the Manhattan distance from $i$ to $j$."
   ]
  },
  {
   "cell_type": "code",
   "execution_count": null,
   "metadata": {},
   "outputs": [],
   "source": [
    "V = {\n",
    "    0: (7, 1),\n",
    "    1: (8, 7),\n",
    "    2: (6, 4),\n",
    "    3: (1, 5),\n",
    "    4: (9, 4),\n",
    "    5: (3, 9),\n",
    "    6: (3, 4),\n",
    "    7: (2, 2)\n",
    "}\n",
    "\n",
    "E = {(i, j): abs(V[i][0] - V[j][0]) + abs(V[i][1] - V[j][1]) for i, j in itertools.combinations(V, 2)}\n",
    "\n",
    "# E = {(i, j): ((V[i][0] - V[j][0])**2 + (V[i][1] - V[j][1])**2)**(1/2)for i, j in itertools.combinations(V, 2)}\n",
    "\n",
    "n = len(V)"
   ]
  },
  {
   "cell_type": "markdown",
   "metadata": {},
   "source": [
    "In this notebook we will implement the Miller, Tucker, and Zemlin model from 1960.  \n",
    "First, we need to convert each edge in $E$ into two directed edges and add them to $A$ (see lecture).  \n",
    "From now on we will be working with the directed graph $D=(V,A)$.  \n",
    "Note that the edge costs $c_{ij}, ij\\in A$ are stored in a dictionary and can be accessed at `A[i,j]`."
   ]
  },
  {
   "cell_type": "code",
   "execution_count": null,
   "metadata": {},
   "outputs": [],
   "source": [
    "A = dict()\n",
    "for i, j in E:\n",
    "    A[i, j] = E[i, j]\n",
    "    A[j, i] = E[i, j]"
   ]
  },
  {
   "cell_type": "markdown",
   "metadata": {},
   "source": [
    "Let us start by plotting our graph. We'll define a helper function `plot_graph()`.<br/>\n",
    "Reference: [Variable Attributes](https://www.gurobi.com/documentation/9.0/refman/variable_attributes.html)"
   ]
  },
  {
   "cell_type": "code",
   "execution_count": null,
   "metadata": {},
   "outputs": [],
   "source": [
    "def plot_graph(model=None):\n",
    "    plt.figure(figsize=(6, 6))\n",
    "    \n",
    "    # Plot edges\n",
    "    for i, j in A:\n",
    "        x1, y1 = V[i]\n",
    "        x2, y2 = V[j]\n",
    "        if model is not None and model.getVarByName(f'x[{i},{j}]').x > 0.5:\n",
    "            plt.plot((x1, x2), (y1, y2), color='r')\n",
    "        else:\n",
    "            plt.plot((x1, x2), (y1, y2), lw=.4, color='k', ls='--')\n",
    "        \n",
    "    # Plot vertices\n",
    "    for v in V:\n",
    "        x, y = V[v]\n",
    "        plt.plot(x, y, markersize=20, color='lightcoral', marker='o')\n",
    "        plt.text(x, y, v, fontsize=14, color='k', va='center', ha='center')\n",
    "    \n",
    "    plt.xlabel('x')\n",
    "    plt.ylabel('y')\n",
    "    plt.show()"
   ]
  },
  {
   "cell_type": "code",
   "execution_count": null,
   "metadata": {},
   "outputs": [],
   "source": [
    "plot_graph()"
   ]
  },
  {
   "cell_type": "markdown",
   "metadata": {},
   "source": [
    "## Model"
   ]
  },
  {
   "cell_type": "markdown",
   "metadata": {},
   "source": [
    "We start off by creating an empty model `m`.<br>\n",
    "Reference: [Model()](https://www.gurobi.com/documentation/9.0/refman/py_model2.html)"
   ]
  },
  {
   "cell_type": "code",
   "execution_count": null,
   "metadata": {},
   "outputs": [],
   "source": [
    "m = Model('TSP')"
   ]
  },
  {
   "cell_type": "markdown",
   "metadata": {},
   "source": [
    "Then we add the necessary variables.  \n",
    "In our case, we will need $|V|^2$ binary variables. The variables, let us call them $x_{ij}$, will depict whether the edge $ij \\in A$ is a part of the optimal tour or not.  \n",
    "Reference: [addVars()](https://www.gurobi.com/documentation/9.0/refman/py_model_addvars.html)"
   ]
  },
  {
   "cell_type": "code",
   "execution_count": null,
   "metadata": {},
   "outputs": [],
   "source": [
    "x = m.addVars(n, n, vtype=GRB.BINARY, name='x')"
   ]
  },
  {
   "cell_type": "markdown",
   "metadata": {},
   "source": [
    "Now, before we can start constructing our model, we need to formulate the objective function and the constraints \"on paper\".  \n",
    "We want to minimize the total weight of the edges that are a part of our tour. Hence, our objective function can be written as\n",
    "$$min \\sum_{ij\\in A}c_{ij}x_{ij}$$\n",
    "We will use the efficient function `quicksum()` provided in the `Gurobi` library.<br>\n",
    "Reference: [setObjective()](https://www.gurobi.com/documentation/9.0/refman/py_model_setobjective.html), [quicksum()](https://www.gurobi.com/documentation/9.0/refman/py_quicksum.html)"
   ]
  },
  {
   "cell_type": "code",
   "execution_count": null,
   "metadata": {
    "scrolled": true
   },
   "outputs": [],
   "source": [
    "m.setObjective(quicksum(A[i,j] * x[i,j] for i, j in A))"
   ]
  },
  {
   "cell_type": "markdown",
   "metadata": {},
   "source": [
    "Since a tour is a cycle, we want to make sure that every vertex is visited and left only once.  \n",
    "We enter each vertex once\n",
    "$$\\sum_{ij \\in \\delta^-(j)}x_{ij}=1 \\quad \\forall j \\in V$$\n",
    "and leave each vertex once\n",
    "$$\\sum_{ij \\in \\delta^+(i)}x_{ij}=1 \\quad \\forall i \\in V$$\n",
    "Let us add these constraints to our model. We will once again use the `quicksum()` method.  \n",
    "Reference: [addConstrs()](https://www.gurobi.com/documentation/9.0/refman/py_model_addconstrs.html), [quicksum()](https://www.gurobi.com/documentation/9.0/refman/py_quicksum.html)"
   ]
  },
  {
   "cell_type": "code",
   "execution_count": null,
   "metadata": {},
   "outputs": [],
   "source": [
    "# Enter\n",
    "m.addConstrs(quicksum(x[i, j] for i, j in A if j == v) == 1 for v in V)\n",
    "\n",
    "# Leave\n",
    "m.addConstrs(quicksum(x[i, j] for i, j in A if i == v) == 1 for v in V)\n",
    "\n",
    "m.update()"
   ]
  },
  {
   "cell_type": "markdown",
   "metadata": {},
   "source": [
    "We'll run the model once without adding any constraints to see what happens.  \n",
    "Reference: [optimize()](https://www.gurobi.com/documentation/9.0/refman/py_model_optimize.html)"
   ]
  },
  {
   "cell_type": "code",
   "execution_count": null,
   "metadata": {},
   "outputs": [],
   "source": [
    "m.optimize()"
   ]
  },
  {
   "cell_type": "markdown",
   "metadata": {},
   "source": [
    "Let us plot the solution and print out the length of the shortest tour.<br/>\n",
    "Reference: [ObjVal](https://www.gurobi.com/documentation/9.0/refman/objval.html)"
   ]
  },
  {
   "cell_type": "code",
   "execution_count": null,
   "metadata": {},
   "outputs": [],
   "source": [
    "plot_graph(m)\n",
    "print('The length of the shortest tour is', round(m.ObjVal))"
   ]
  },
  {
   "cell_type": "markdown",
   "metadata": {},
   "source": [
    "Oh, the current optimal solution consists of multiple subtours. Note that these are indeed subtours, each subtour is a cycle $i \\rightarrow j \\rightarrow i$. We do not want to allow such solutions, hence, we need to implement subtour elimination constraints (SEC). In the Miller, Tucker, and Zemlin model these constraints are written as\n",
    "$$u_i - u_j + nx_{ij}\\leq n-1 \\quad \\forall ij \\in A, j \\neq 1$$\n",
    "where $u_i, i \\in V$ is an integer variable determining the position of the vertex $i$ in a tour.  \n",
    "First we add the variables $u_i$.  \n",
    "Reference: [addVars()](https://www.gurobi.com/documentation/9.0/refman/py_model_addvars.html)"
   ]
  },
  {
   "cell_type": "code",
   "execution_count": null,
   "metadata": {},
   "outputs": [],
   "source": [
    "u = m.addVars(n, name='u', vtype=GRB.INTEGER)"
   ]
  },
  {
   "cell_type": "markdown",
   "metadata": {},
   "source": [
    "Now we can arbitrarily fix the starting vertex and add the SECs.  \n",
    "Reference: [addConstr()](https://www.gurobi.com/documentation/9.0/refman/py_model_addconstr.html), [addConstrs()](https://www.gurobi.com/documentation/9.0/refman/py_model_addconstrs.html)"
   ]
  },
  {
   "cell_type": "code",
   "execution_count": null,
   "metadata": {},
   "outputs": [],
   "source": [
    "m.addConstr(u[0] == 0)\n",
    "m.addConstrs(u[i] - u[j] + n * x[i,j] <= n - 1 for i, j in A if j != 0)\n",
    "m.update()"
   ]
  },
  {
   "cell_type": "markdown",
   "metadata": {},
   "source": [
    "Run the optimization.<br/>\n",
    "Reference: [optimize()](https://www.gurobi.com/documentation/9.0/refman/py_model_optimize.html)"
   ]
  },
  {
   "cell_type": "code",
   "execution_count": null,
   "metadata": {},
   "outputs": [],
   "source": [
    "m.optimize()"
   ]
  },
  {
   "cell_type": "markdown",
   "metadata": {},
   "source": [
    "Let us plot the new solution."
   ]
  },
  {
   "cell_type": "code",
   "execution_count": null,
   "metadata": {},
   "outputs": [],
   "source": [
    "plot_graph(m)\n",
    "print('The length of the shortest tour is', round(m.ObjVal))"
   ]
  },
  {
   "cell_type": "markdown",
   "metadata": {},
   "source": [
    "Our optimal solution is indeed a tour which means that we are done with the task. Congrats!"
   ]
  },
  {
   "cell_type": "markdown",
   "metadata": {},
   "source": [
    "## Complications"
   ]
  },
  {
   "cell_type": "markdown",
   "metadata": {},
   "source": [
    "Now, since we are driving a car, and cars consume fuel, we additionally need to make sure that we never run out of fuel on our journey. Each vertex has a gas station which will be able to provide us at most $f_v, v \\in V$ units of fuel. We need exactly 1 unit of fuel to drive 1 unit of distance. As previously, we start our tour at the vertex 0. We start with an empty tank which we can immediately fill up for up to $f_0$ units of fuel. Keep in mind the our car has a limited tank capacity $b$. Our task is to find a shortest tour covering all vertices while ensuring that we are not going to run out of gas."
   ]
  },
  {
   "cell_type": "code",
   "execution_count": null,
   "metadata": {},
   "outputs": [],
   "source": [
    "f = {\n",
    "    0: 5,\n",
    "    1: 5,\n",
    "    2: 10,\n",
    "    3: 2,\n",
    "    4: 8,\n",
    "    5: 3,\n",
    "    6: 7,\n",
    "    7: 5\n",
    "}\n",
    "\n",
    "b = 12"
   ]
  },
  {
   "cell_type": "markdown",
   "metadata": {},
   "source": [
    "First, we add the variable $y_v$ which indicates how much fuel we have when we arrive at vertex $v \\in V$."
   ]
  },
  {
   "cell_type": "code",
   "execution_count": null,
   "metadata": {},
   "outputs": [],
   "source": [
    "y = m.addVars(n, name='y', vtype=GRB.INTEGER)\n",
    "m.update()"
   ]
  },
  {
   "cell_type": "markdown",
   "metadata": {},
   "source": [
    "Then we add the necessary constraints:\n",
    "1. We start with an empty tank:\n",
    "$$y_0 = 0$$\n",
    "2. We respect the tank capacity:\n",
    "$$y_v + f_v \\leq b\\quad \\forall v\\in V$$\n",
    "3. If we go from $i$ to $j$, we fill up our tank at $i$ and burn $c_{ij}$ units of fuel while driving:\n",
    "$$\\text{ if } x_{ij}=1 \\text{:} \\quad y_j \\leq y_i - c_{ij}+f_i \\quad \\forall ij\\in A, j \\neq 0$$"
   ]
  },
  {
   "cell_type": "code",
   "execution_count": null,
   "metadata": {},
   "outputs": [],
   "source": [
    "# Start with empty tank\n",
    "m.addConstr(y[0] == 0)\n",
    "\n",
    "# Max tank capacity\n",
    "m.addConstrs(y[v] + f[v] <= b for v in V)\n",
    "\n",
    "# Calculate the amount of fuel in the tank\n",
    "m.addConstrs((x[i,j] == 1) >> (y[j] <= y[i] - A[i,j] + f[i]) for i, j in A if j != 0)\n",
    "\n",
    "m.update()"
   ]
  },
  {
   "cell_type": "markdown",
   "metadata": {},
   "source": [
    "Note that the bitwise operator `>>` used in the previous cell is currently not supported by TutOR.  \n",
    "Let us now run the optimization and plot the solution."
   ]
  },
  {
   "cell_type": "code",
   "execution_count": null,
   "metadata": {},
   "outputs": [],
   "source": [
    "m.optimize()\n",
    "plot_graph(m)"
   ]
  },
  {
   "cell_type": "markdown",
   "metadata": {},
   "source": [
    "Note, that the previous tour was not feasible with the new fuel restictions and a new tour has been found.  \n",
    "Lastly, we are suddenly informed that the edges (1, 5) and (2, 6) are no longer available. We should update our model accordingly.  \n",
    "Reference: [addConstr()](https://www.gurobi.com/documentation/9.0/refman/py_model_addconstr.html)"
   ]
  },
  {
   "cell_type": "code",
   "execution_count": null,
   "metadata": {},
   "outputs": [],
   "source": [
    "m.addConstr(x[1,5] == 0)\n",
    "m.addConstr(x[5,1] == 0)\n",
    "m.addConstr(x[2,6] == 0)\n",
    "m.addConstr(x[6,2] == 0)\n",
    "m.update()"
   ]
  },
  {
   "cell_type": "markdown",
   "metadata": {},
   "source": [
    "We optimize one last time..."
   ]
  },
  {
   "cell_type": "code",
   "execution_count": null,
   "metadata": {},
   "outputs": [],
   "source": [
    "m.optimize()\n",
    "plot_graph(m)"
   ]
  },
  {
   "cell_type": "markdown",
   "metadata": {},
   "source": [
    "We see that neither (1, 5) nor (2, 6) have been used in this shortest tour. Great job!"
   ]
  },
  {
   "cell_type": "markdown",
   "metadata": {},
   "source": [
    "## Conclusion"
   ]
  },
  {
   "cell_type": "markdown",
   "metadata": {},
   "source": [
    "In this notebook you have modeled the travelling salesman problem as well as its slight variation.  \n",
    "We have also used graphs to visualize the solutions and to see the effect of the constraints as we added them.\n",
    "\n",
    "We hope you found this notebook interesting. All the best and until next time!"
   ]
  }
 ],
 "metadata": {
  "kernelspec": {
   "display_name": "Python 3",
   "language": "python",
   "name": "python3"
  },
  "language_info": {
   "codemirror_mode": {
    "name": "ipython",
    "version": 3
   },
   "file_extension": ".py",
   "mimetype": "text/x-python",
   "name": "python",
   "nbconvert_exporter": "python",
   "pygments_lexer": "ipython3",
   "version": "3.7.7"
  }
 },
 "nbformat": 4,
 "nbformat_minor": 4
}
